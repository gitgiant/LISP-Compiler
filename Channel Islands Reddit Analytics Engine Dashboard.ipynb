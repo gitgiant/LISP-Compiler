{
 "cells": [
  {
   "cell_type": "raw",
   "metadata": {},
   "source": [
    "<script>\n",
    "  function code_toggle() {\n",
    "    if (code_shown){\n",
    "      $('div.input').hide('500');\n",
    "      $('#toggleButton').val('Show Code')\n",
    "    } else {\n",
    "      $('div.input').show('500');\n",
    "      $('#toggleButton').val('Hide Code')\n",
    "    }\n",
    "    code_shown = !code_shown\n",
    "  }\n",
    "\n",
    "  $( document ).ready(function(){\n",
    "    code_shown=false;\n",
    "    $('div.input').hide()\n",
    "  });\n",
    "</script>\n",
    "<form action=\"javascript:code_toggle()\"><input type=\"submit\" id=\"toggleButton\" value=\"Show Code\"></form>"
   ]
  },
  {
   "cell_type": "markdown",
   "metadata": {
    "slideshow": {
     "slide_type": "slide"
    }
   },
   "source": [
    "# Channel Islands Reddit Analytics Engine Dashbord"
   ]
  },
  {
   "cell_type": "code",
   "execution_count": 46,
   "metadata": {
    "collapsed": true,
    "slideshow": {
     "slide_type": "slide"
    }
   },
   "outputs": [],
   "source": [
    "import matplotlib.pyplot as plt\n",
    "import numpy as np\n",
    "from wordcloud import WordCloud, STOPWORDS\n",
    "# from imgur import upload\n",
    "import praw\n",
    "import os\n",
    "from ipywidgets import widgets\n",
    "from IPython.display import display\n",
    "import operator\n",
    "\n",
    "text = widgets.Text(description =\"Redditor:\")\n",
    "word_cloud_b = widgets.Button(description=\"Word Cloud\")\n",
    "karma_breakdown_b = widgets.Button(description=\"Karma Breakdown\")\n",
    "word_count_b = widgets.Button(description=\"Word Count\")\n",
    "user_activity_b = widgets.Button(description=\"User Activity\")\n",
    "\n",
    "user_agent = 'Reddit Analytics Engine, writted by CSUCI students'\n",
    "reddit_client = praw.Reddit(user_agent=user_agent)\n",
    "\n",
    "display(text)\n",
    "\n",
    "def handle_submit(sender):\n",
    "    display(word_cloud_b)\n",
    "    display(karma_breakdown_b)\n",
    "    word_cloud_b.on_click(word_cloud(text.value))\n",
    "    karma_breakdown_b.on_click(karma_breakdown(text.value))\n",
    "    \n",
    "def word_cloud(target):\n",
    "    print(\"Generating word_cloud, please wait...\")\n",
    "\n",
    "    # Set to grab a certain number of things from reddit...reddit wont return more than 1000\n",
    "    thing_limit = 1000\n",
    "    \n",
    "    reddit_user = reddit_client.get_redditor(target)\n",
    "\n",
    "    generated = reddit_user.get_comments(time='all', limit=None)\n",
    "\n",
    "    # Stopwords from wordcloud\n",
    "    s = set(STOPWORDS)\n",
    "    s.add(\"one\")\n",
    "    \n",
    "    total_comments = str()\n",
    "    for thing in generated:\n",
    "        total_comments += thing.body\n",
    "        total_comments += \" \"\n",
    "\n",
    "    # take relative word frequencies into account, lower max_font_size\n",
    "    wordcloud = WordCloud(scale=3, relative_scaling=.5, random_state=1, stopwords=s).generate(total_comments)\n",
    "    plt.figure()\n",
    "    plt.title(reddit_user.name + \"'s image cloud\")\n",
    "    plt.imshow(wordcloud)\n",
    "    plt.axis(\"off\")\n",
    "    \n",
    "    plt.show()\n",
    "    \n",
    "def karma_breakdown(target):\n",
    "    print(\"Generating Karma Breakdown, please wait...\")\n",
    "    # Set to grab a certain number of things from reddit...reddit wont return more than 1000\n",
    "    thing_limit = 100\n",
    "\n",
    "    reddit_user = reddit_client.get_redditor(target)\n",
    "\n",
    "    generated = reddit_user.get_submitted(limit=thing_limit)\n",
    "\n",
    "    karma_by_subreddit = {}\n",
    "\n",
    "    for thing in generated:\n",
    "        subreddit = thing.subreddit.display_name\n",
    "        karma_by_subreddit[subreddit] = (karma_by_subreddit.get(subreddit, 0) + thing.score)\n",
    "\n",
    "    # remove entries that have a value of 0\n",
    "    removed_zeroes = {x:y for x, y in karma_by_subreddit.items() if y != 0}\n",
    "\n",
    "    #sorts the dictionary by value, then reverses\n",
    "    sorted_x = sorted(removed_zeroes.items(), key=operator.itemgetter(1), reverse=True)\n",
    "\n",
    "    #get just the keys into a sorted list, and trim to get the top 20\n",
    "    sorted_keys = list(map(itemgetter(0), sorted_x))\n",
    "    del sorted_keys[20:]\n",
    "\n",
    "    #get just the keys into a sorted values, and trim to get the top 20\n",
    "    sorted_values = list(map(itemgetter(1), sorted_x))\n",
    "    del sorted_values[20:]\n",
    "\n",
    "    max_y_tick = np.amax(sorted_values) + 1\n",
    "    bar_width = 1\n",
    "    sorted_range = np.array(range(len(sorted_keys)))\n",
    "\n",
    "    fig, ax = plt.subplots()\n",
    "    ax.bar(sorted_range, sorted_values, bar_width, align='center')\n",
    "\n",
    "    ax.set_title(\"Karma Breakdown of top 20 subreddits from User: \" + reddit_user.name)\n",
    "\n",
    "    ax.set_xlabel(\"Subreddit Name\")\n",
    "    ax.set_ylabel(\"Karma\", rotation='vertical')\n",
    "\n",
    "    ax.set_xlim([0, len(sorted_range)])\n",
    "    ax.set_ylim([0, max_y_tick])\n",
    "\n",
    "    fig.tight_layout() # This is apparently supposed to give room to the x labels\n",
    "    ax.axis('tight')\n",
    "\n",
    "    ax.set_xticks(sorted_range)\n",
    "    ax.set_yticks(range(max_y_tick))\n",
    "\n",
    "    ax.set_xticklabels(sorted_keys, rotation='vertical')\n",
    "    plt.show()\n",
    "\n",
    "    \n",
    "text.on_submit(handle_submit)\n"
   ]
  },
  {
   "cell_type": "code",
   "execution_count": null,
   "metadata": {
    "collapsed": true
   },
   "outputs": [],
   "source": []
  }
 ],
 "metadata": {
  "celltoolbar": "Raw Cell Format",
  "kernelspec": {
   "display_name": "Python 3",
   "language": "python",
   "name": "python3"
  },
  "language_info": {
   "codemirror_mode": {
    "name": "ipython",
    "version": 3
   },
   "file_extension": ".py",
   "mimetype": "text/x-python",
   "name": "python",
   "nbconvert_exporter": "python",
   "pygments_lexer": "ipython3",
   "version": "3.5.2"
  },
  "widgets": {
   "state": {
    "13fe611450ca403c94ae62e0cf4cf17b": {
     "views": [
      {
       "cell_index": 1
      }
     ]
    },
    "1801157829bd4eccbba2b1d598d24cf0": {
     "views": [
      {
       "cell_index": 1
      }
     ]
    },
    "22cdd30488c942cc8fc2d2762bc0a495": {
     "views": [
      {
       "cell_index": 1
      }
     ]
    },
    "270ea1d8b5854ade9c8ccc8012599849": {
     "views": [
      {
       "cell_index": 1
      }
     ]
    },
    "2da9481523d24d0bbba2c2b6233282d1": {
     "views": [
      {
       "cell_index": 1
      }
     ]
    },
    "341e00b0984f487aabc8494753e17d01": {
     "views": [
      {
       "cell_index": 1
      }
     ]
    },
    "4a190a79815b41da93e8c5db71307939": {
     "views": [
      {
       "cell_index": 1
      }
     ]
    },
    "4ac0e522b51a4fecbb77a1515facdd49": {
     "views": [
      {
       "cell_index": 1
      }
     ]
    },
    "4d03240d245b47359da3952769bd0787": {
     "views": [
      {
       "cell_index": 1
      }
     ]
    },
    "5423a9071d6f4c61af62659af9fe5baf": {
     "views": [
      {
       "cell_index": 1
      }
     ]
    },
    "5556ac779552434f92097d36f47b6884": {
     "views": [
      {
       "cell_index": 1
      }
     ]
    },
    "5d1d8671bf5f4d18a7c7f66c63659b49": {
     "views": [
      {
       "cell_index": 1
      }
     ]
    },
    "6859d35f2c90431c9dd252fed05cb3c5": {
     "views": [
      {
       "cell_index": 1
      }
     ]
    },
    "a0638383fe31404d9ed1cf3eff83af5d": {
     "views": [
      {
       "cell_index": 1
      }
     ]
    },
    "a80f933e7e07476c8d7bea9d3658b142": {
     "views": [
      {
       "cell_index": 1
      }
     ]
    },
    "b6838e07283d42a789e424d63388fe12": {
     "views": [
      {
       "cell_index": 2
      }
     ]
    },
    "f86cd7e5d40f4a179d16354497f3c281": {
     "views": [
      {
       "cell_index": 1
      }
     ]
    }
   },
   "version": "1.2.0"
  }
 },
 "nbformat": 4,
 "nbformat_minor": 1
}
